{
 "cells": [
  {
   "cell_type": "markdown",
   "metadata": {},
   "source": [
    "# Sitting Posture Detection\n",
    "\n",
    "Group Member:\n",
    "- Christoffer Edbert Karuniawan (2602082944)\n",
    "- Jason Nicholas (2602133043)\n",
    "- Kenzie Raditya Tirtarahardja (2602153581)\n",
    "----\n",
    "\n",
    "In this notebook, we will analyze the accuracy of our model. "
   ]
  },
  {
   "cell_type": "markdown",
   "metadata": {},
   "source": [
    "### Importing Library\n",
    "\n",
    "We use cv2 from OpenCV and MediaPipe for our model. We also import other useful library for implementation and visualization."
   ]
  },
  {
   "cell_type": "code",
   "execution_count": 41,
   "metadata": {},
   "outputs": [],
   "source": [
    "import os\n",
    "import cv2\n",
    "import time\n",
    "import math as m\n",
    "import mediapipe as mp\n",
    "import numpy as np\n",
    "import seaborn as sn\n",
    "import pandas as pd"
   ]
  },
  {
   "cell_type": "markdown",
   "metadata": {},
   "source": [
    "Initializing mediapipe selfie implementation class"
   ]
  },
  {
   "cell_type": "code",
   "execution_count": 42,
   "metadata": {},
   "outputs": [],
   "source": [
    "mp_pose = mp.solutions.pose\n",
    "pose = mp_pose.Pose()"
   ]
  },
  {
   "cell_type": "markdown",
   "metadata": {},
   "source": [
    "### Angle Calculator Function\n",
    "\n",
    "This function is very important to calculate the angle of the body posture, which is the fundamental for determining good or bad posture.\n",
    "\n",
    "<img src=\"ilustration/angle_ilustration.jpg\" align=\"middle\" width=\"500\" height=\"600\">\n",
    "\n",
    "We can see these points as vectors and try to compute $\\theta$.\n",
    "\n",
    "$$\n",
    "\\theta = \\arccos (\\frac{\\vec{P_{12}}.\\vec{P_{13}}}{|\\vec{P_{12}}|.|\\vec{P_{13}}|})\n",
    "$$\n",
    "\n",
    "Note that $P_3$ can be any point, as long as it is verticaly aligned (have the same x-coordinate) with $P_1$. For simplicity, we will assume that $P_3$ has a value y of $0$.\n",
    "Hence,\n",
    "\n",
    "$$\n",
    "\\theta = \\arccos (\\frac{y_1^2 - y_1.y_2}{y_1\\sqrt{(x_2 - x_1)^2 + (y_2 - y_1)^2}})\n",
    "$$"
   ]
  },
  {
   "cell_type": "code",
   "execution_count": 43,
   "metadata": {},
   "outputs": [],
   "source": [
    "def angle(x1, y1, x2, y2):\n",
    "    a = (y2 - y1) * (-y1)\n",
    "    b = (m.sqrt((x2 - x1) ** 2 + (y2 - y1) ** 2) * y1)\n",
    "    if b != 0:\n",
    "        theta = m.acos(a / b)\n",
    "        degree = int(180 / m.pi) * theta\n",
    "    else:\n",
    "        degree = 0\n",
    "    return degree"
   ]
  },
  {
   "cell_type": "markdown",
   "metadata": {},
   "source": [
    "### Posture Checker Function\n",
    "\n",
    "We pass the directory and filename of the test image. We then determine whether the posture is good or bad by calculating the neck inclination (by computing the angle between left shoulder and left ear) and torso inclination (by computing the angle between left hip and left shoulder)."
   ]
  },
  {
   "cell_type": "code",
   "execution_count": 44,
   "metadata": {},
   "outputs": [],
   "source": [
    "def checkPosture(dir, filename):\n",
    "    image = cv2.imread(dir+\"/\"+filename)\n",
    "    image = cv2.cvtColor(image, cv2.COLOR_BGR2RGB)\n",
    "\n",
    "    h, w = image.shape[:2]\n",
    "\n",
    "    keypoints = pose.process(image)\n",
    "    \n",
    "    lm = keypoints.pose_landmarks\n",
    "    lmPose = mp_pose.PoseLandmark\n",
    "\n",
    "    if lm == None:\n",
    "        return -1\n",
    "    \n",
    "    # Acquire landmark coordinates\n",
    "    # Left Shoulder\n",
    "    left_shoulder_x = int(lm.landmark[lmPose.LEFT_SHOULDER].x * w)\n",
    "    left_shoulder_y = int(lm.landmark[lmPose.LEFT_SHOULDER].y * w)\n",
    "    # Left Ear\n",
    "    left_ear_x = int(lm.landmark[lmPose.LEFT_EAR].x * w)\n",
    "    left_ear_y = int(lm.landmark[lmPose.LEFT_EAR].y * w)\n",
    "    # Left hip\n",
    "    left_hip_x = int(lm.landmark[lmPose.LEFT_HIP].x * w)\n",
    "    left_hip_y = int(lm.landmark[lmPose.LEFT_HIP].y * w)\n",
    "\n",
    "    # Calculate angles\n",
    "    neck_inclination = angle(left_shoulder_x, left_shoulder_y, left_ear_x, left_ear_y)\n",
    "    torso_inclination = angle(left_hip_x, left_hip_y, left_shoulder_x, left_shoulder_y)\n",
    "\n",
    "    if neck_inclination < 25 and torso_inclination < 8:\n",
    "        return 1\n",
    "    return 0"
   ]
  },
  {
   "cell_type": "markdown",
   "metadata": {},
   "source": [
    "### Testing the Dataset\n",
    "\n",
    "There are 4 directory, 2 of them contain bad posture pictures and 2 of them contain good posture pictures. We will test our model for all of them, and create a confusion matrix."
   ]
  },
  {
   "cell_type": "code",
   "execution_count": 45,
   "metadata": {},
   "outputs": [],
   "source": [
    "# Directory for all data set\n",
    "bad_directory1 = \"test_dataset/data/bad/1\"\n",
    "bad_directory2 = \"test_dataset/data/bad/2\"\n",
    "good_directory1 = \"test_dataset/data/good/1\"\n",
    "good_directory2 = \"test_dataset/data/good/2\"\n",
    "\n",
    "# Declare confusion matrix (0: bad, 1: good)\n",
    "conf_mat = np.zeros([2, 2], dtype=int)\n",
    "\n",
    "miss_scan = 0\n",
    "\n",
    "# Test first bad posture folder\n",
    "for filename in os.listdir(bad_directory1):\n",
    "    if not filename.endswith('.jpg'):\n",
    "        continue\n",
    "    \n",
    "    if checkPosture(bad_directory1, filename) == 0:\n",
    "        conf_mat[0][0] += 1\n",
    "    elif checkPosture(bad_directory1, filename) == 1:\n",
    "        conf_mat[0][1] += 1\n",
    "    else:\n",
    "        miss_scan += 1\n",
    "\n",
    "# Test second bad posture folder\n",
    "for filename in os.listdir(bad_directory2):\n",
    "    if not filename.endswith('.jpg'):\n",
    "        continue\n",
    "\n",
    "    if checkPosture(bad_directory2, filename) == 0:\n",
    "        conf_mat[0][0] += 1\n",
    "    elif checkPosture(bad_directory2, filename) == 1:\n",
    "        conf_mat[0][1] += 1\n",
    "    else:\n",
    "        miss_scan += 1\n",
    "\n",
    "# Test first good posture folder\n",
    "for filename in os.listdir(good_directory1):\n",
    "    if not filename.endswith('.jpg'):\n",
    "        continue\n",
    "\n",
    "    if checkPosture(good_directory1, filename) == 0:\n",
    "        conf_mat[1][0] += 1\n",
    "    elif checkPosture(good_directory1, filename) == 1:\n",
    "        conf_mat[1][1] += 1\n",
    "    else:\n",
    "        miss_scan += 1\n",
    "\n",
    "# Test second good posture folder\n",
    "for filename in os.listdir(good_directory2):\n",
    "    if not filename.endswith('.jpg'):\n",
    "\n",
    "        continue\n",
    "    if checkPosture(good_directory2, filename) == 0:\n",
    "        conf_mat[1][0] += 1\n",
    "    elif checkPosture(good_directory2, filename) == 1:\n",
    "        conf_mat[1][1] += 1\n",
    "    else:\n",
    "        miss_scan += 1"
   ]
  },
  {
   "cell_type": "markdown",
   "metadata": {},
   "source": [
    "### Plotting the Confusion Matrix\n",
    "\n",
    "Plotting the confusion matrix using the seaborn library"
   ]
  },
  {
   "cell_type": "code",
   "execution_count": 46,
   "metadata": {},
   "outputs": [
    {
     "data": {
      "text/plain": [
       "[Text(0.5, 1.0, 'Confusion Matrix')]"
      ]
     },
     "execution_count": 46,
     "metadata": {},
     "output_type": "execute_result"
    },
    {
     "data": {
      "image/png": "[encoded data removed]",
      "text/plain": [
       "<Figure size 640x480 with 2 Axes>"
      ]
     },
     "metadata": {},
     "output_type": "display_data"
    }
   ],
   "source": [
    "df_con = pd.DataFrame(conf_mat, range(2), range(2))\n",
    "\n",
    "df_con = df_con.set_axis([\"Bad\", \"Good\"], axis=\"columns\")\n",
    "df_con = df_con.set_axis([\"Bad\", \"Good\"], axis=\"index\")\n",
    "\n",
    "sn.set(font_scale=1.4)\n",
    "sn.heatmap(df_con, annot=True, annot_kws={\"size\": 16}).set(title=\"Confusion Matrix\")"
   ]
  },
  {
   "cell_type": "markdown",
   "metadata": {},
   "source": [
    "### Computing Accuracy\n",
    "\n",
    "We can compute the accuracy our model from our confusion matrix with the formula\n",
    "\n",
    "$$\n",
    "TP+TN \\over TP+TN+FP+FN\n",
    "$$\n",
    "\n",
    "Note:\n",
    "- $TP$: True Positive\n",
    "- $TN$: True Negative\n",
    "- $FP$: False Positive\n",
    "- $FN$: False Negative"
   ]
  },
  {
   "cell_type": "code",
   "execution_count": 47,
   "metadata": {},
   "outputs": [
    {
     "name": "stdout",
     "output_type": "stream",
     "text": [
      "Accuracy for our model based on our dataset: 94.137%\n"
     ]
    }
   ],
   "source": [
    "Accuracy = (conf_mat[0][0]+conf_mat[1][1])/(conf_mat[0][0]+conf_mat[0][1]+conf_mat[1][1]+conf_mat[1][0])\n",
    "\n",
    "print(f\"Accuracy for our model based on our dataset: {round(Accuracy*100, 3)}%\")"
   ]
  }
 ],
 "metadata": {
  "kernelspec": {
   "display_name": "Python 3",
   "language": "python",
   "name": "python3"
  },
  "language_info": {
   "codemirror_mode": {
    "name": "ipython",
    "version": 3
   },
   "file_extension": ".py",
   "mimetype": "text/x-python",
   "name": "python",
   "nbconvert_exporter": "python",
   "pygments_lexer": "ipython3",
   "version": "3.10.4"
  }
 },
 "nbformat": 4,
 "nbformat_minor": 2
}
